{
  "nbformat": 4,
  "nbformat_minor": 0,
  "metadata": {
    "colab": {
      "provenance": []
    },
    "kernelspec": {
      "name": "python3",
      "display_name": "Python 3"
    },
    "language_info": {
      "name": "python"
    }
  },
  "cells": [
    {
      "cell_type": "markdown",
      "source": [
        "## Task\n",
        "- Complete **isHappy** function following the description below\n",
        "\n",
        "### Happy Number\n",
        "Write an algorithm to determine if a number **n** is happy.\n",
        "\n",
        "A **happy number** is a number defined by the following process:\n",
        "\n",
        "* Starting with any positive integer, replace the number by the sum of the squares of its digits.\n",
        "* Repeat the process until the number equals 1 (where it will stay), or it **loops endlessly in a cycle** which does not include 1.\n",
        "* Those numbers for which this process **ends in 1** are happy.\n",
        "\n",
        "Return **true** if n is a happy number, and **false** if not.\n",
        "\n",
        "Constraints:\n",
        "1 <= n <= $2^{31}$ - 1"
      ],
      "metadata": {
        "id": "TV3Socqg8BVl"
      }
    },
    {
      "cell_type": "code",
      "execution_count": 13,
      "metadata": {
        "id": "5FcxitVf5kdQ",
        "colab": {
          "base_uri": "https://localhost:8080/"
        },
        "outputId": "d0df6efd-253b-4f3a-c895-ffd0c181272e"
      },
      "outputs": [
        {
          "output_type": "stream",
          "name": "stdout",
          "text": [
            "19\n",
            "True\n"
          ]
        }
      ],
      "source": [
        "def isHappy(n):\n",
        "\n",
        "  if(n == 1 or n == 7): # 예외 case 처리\n",
        "    return True\n",
        "  if(n < 10):\n",
        "    return False\n",
        "\n",
        "  while(True):\n",
        "\n",
        "    arr = []\n",
        "    result = 0\n",
        "\n",
        "    for i in str(n): # 입력받은 숫자 n을 앞에서부터 분리 & 제곱해서 arr에 저장\n",
        "      arr.append(int(i) ** 2)\n",
        "\n",
        "    result = sum(arr) # arr 내부 숫자들 합 구하기\n",
        "    #print(\"result: \" + result1 + \"\\n\")\n",
        "\n",
        "    if(result == 1):\n",
        "      return True\n",
        "    if(result == n or result < 10 and result != 7): # 무한 루프 방지\n",
        "      return False\n",
        "\n",
        "    n = result # n을 sum으로 초기화, 다시 루프 진행\n",
        "\n",
        "def main():\n",
        "  num = int(input())\n",
        "  result = isHappy(num)\n",
        "\n",
        "  if(result): print(\"True\")\n",
        "  else: print(\"False\")\n",
        "\n",
        "if __name__ == \"__main__\":\n",
        "  main()"
      ]
    },
    {
      "cell_type": "markdown",
      "source": [
        "**Testcase 1.**\n",
        "\n",
        "**Input**: 19\n",
        "\n",
        "**Output**: True\n",
        "\n",
        "**Explanation**:\n",
        "\n",
        "$1^2 + 9^2 = 82$\n",
        "\n",
        "$8^2 + 2^2 = 68$\n",
        "\n",
        "$6^2 + 8^2 = 100$\n",
        "\n",
        "$1^2 + 0^2 + 0^2 = 1$"
      ],
      "metadata": {
        "id": "eRrh24Ognrqf"
      }
    },
    {
      "cell_type": "markdown",
      "source": [
        "**Testcase 2.**\n",
        "\n",
        "**Input**: 2\n",
        "\n",
        "**Output**: False"
      ],
      "metadata": {
        "id": "dE7YMY8qoPoj"
      }
    }
  ]
}
